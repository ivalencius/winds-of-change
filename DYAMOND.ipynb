{
 "cells": [
  {
   "cell_type": "markdown",
   "id": "22ca5c77-a985-423b-a97a-b314259d3f3c",
   "metadata": {},
   "source": [
    "# DYAMOND\n",
    "\n",
    "Used for investigating the DYnamics of the Atmospheric general circulation Modeled On Non-hydrostatic Domains (DYAMOND) dataset. Overview of the dataset and access is provided through [easy.gems](https://easy.gems.dkrz.de/DYAMOND/index.html).\n",
    "\n",
    "#### Acknowledgements\n",
    "\n",
    "DYAMOND data management was provided by the German Climate Computing Center (DKRZ) and supported through the projects ESiWACE and ESiWACE2. The projects ESiWACE and ESiWACE2 have received funding from the European Union’s Horizon 2020 research and innovation programme under grant agreements No 675191 and 823988. This work used resources of the Deutsches Klimarechenzentrum (DKRZ) granted by its Scientific Steering Committee (WLA) under project IDs bk1040 and bb1153.\n",
    "\n",
    "<img src=\"esiwace_logo_type_grey_left.png\" alt=\"drawing\" width=\"400\"/>\n",
    "\n",
    "<img src=\"normal-reproduction-high-resolution.jpg\" alt=\"drawing\" width=\"400\"/>"
   ]
  }
 ],
 "metadata": {
  "kernelspec": {
   "display_name": "",
   "name": ""
  },
  "language_info": {
   "name": ""
  }
 },
 "nbformat": 4,
 "nbformat_minor": 5
}
