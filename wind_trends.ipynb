{
 "cells": [
  {
   "cell_type": "code",
   "execution_count": null,
   "id": "e728276b-26ac-42f7-9446-61bc2808f2d7",
   "metadata": {},
   "outputs": [],
   "source": [
    "from glob import glob\n",
    "import xarray as xr\n",
    "import cf_xarray # use cf-xarray so that we can use CF attributes\n",
    "import pandas as pd\n",
    "import matplotlib.pyplot as plt\n",
    "import regionmask\n",
    "import cartopy.crs as ccrs\n",
    "import nc_time_axis\n",
    "import numpy as np\n",
    "import warnings\n",
    "# To access collection\n",
    "import dask\n",
    "import intake\n",
    "from dask_jobqueue import PBSCluster\n",
    "from dask.distributed import Client, LocalCluster, futures_of\n",
    "from dask.diagnostics import ProgressBar\n",
    "from tqdm import tqdm \n",
    "import regionmask"
   ]
  },
  {
   "cell_type": "markdown",
   "id": "61d1d884-3f03-48ea-a37c-9292c68c7dc7",
   "metadata": {},
   "source": [
    "## Spin up Dask cluster"
   ]
  },
  {
   "cell_type": "code",
   "execution_count": null,
   "id": "5ebe9926-d4fd-4f09-8870-8ba36d7b0eac",
   "metadata": {},
   "outputs": [],
   "source": [
    "# Create our NCAR Cluster - which uses PBSCluster under the hood\n",
    "num_jobs = 10\n",
    "cluster = PBSCluster(\n",
    "    job_name = 'valencig-dask-hpc',\n",
    "    cores = 1,\n",
    "    memory = '10GiB',\n",
    "    processes = 1,\n",
    "    local_directory = '/glade/u/home/valencig/spilled/',\n",
    "    log_directory = '/glade/u/home/valencig/worker-logs/',\n",
    "    resource_spec = 'select=1:ncpus=1:mem=15GB',\n",
    "    queue = 'casper',\n",
    "    walltime = '02:00:00', # Change wall time if needed\n",
    "    interface = 'ext'\n",
    ")\n",
    "\n",
    "\n",
    "# Spin up workers\n",
    "cluster.scale(jobs=num_jobs)\n",
    "\n",
    "# Assign the cluster to our Client\n",
    "client = Client(cluster)\n",
    "\n",
    "# Block progress until workers have spawned\n",
    "client.wait_for_workers(num_jobs)"
   ]
  },
  {
   "cell_type": "code",
   "execution_count": null,
   "id": "33e9a5b8-7b0d-4da2-a8e9-eacfd634fa9d",
   "metadata": {},
   "outputs": [],
   "source": [
    "client"
   ]
  },
  {
   "cell_type": "code",
   "execution_count": null,
   "id": "abe5adc8-422f-492b-a535-1a0bc677bb4b",
   "metadata": {},
   "outputs": [],
   "source": [
    "cluster.get_logs()"
   ]
  },
  {
   "cell_type": "markdown",
   "id": "eb4b0424-bafd-4927-9114-6162bb460ad0",
   "metadata": {},
   "source": [
    "### Commands for managing dask workers\n",
    "\n",
    "https://arc.ucar.edu/knowledge_base/68878389"
   ]
  },
  {
   "cell_type": "code",
   "execution_count": null,
   "id": "07eacb52-5cd1-476b-b977-26cfd6b85a97",
   "metadata": {},
   "outputs": [],
   "source": [
    "# See the workers in the job scheduler\n",
    "!qstat -u $USER\n",
    "\n",
    "# Kill all running or pending jobs\n",
    "# !qdel `qselect -u $USER`"
   ]
  },
  {
   "cell_type": "markdown",
   "id": "27e51231-df31-4152-acb5-cb1163696ea9",
   "metadata": {},
   "source": [
    "## Read in the catalog"
   ]
  },
  {
   "cell_type": "code",
   "execution_count": null,
   "id": "87762119-2086-4a7b-ad45-1df2f554dad3",
   "metadata": {},
   "outputs": [],
   "source": [
    "# 'cesm.json' is copy of '/glade/collections/cmip/catalog/intake-esm-datastore/catalogs/glade-cesm2-le.json'\n",
    "# Comment out \"options\": null in aggregation_controls.aggregations.0 in order to get intake-esm to work\n",
    "# cat = intake.open_esm_datastore('cesm2.json')\n",
    "cat = intake.open_esm_datastore('/glade/collections/cmip/catalog/intake-esm-datastore/catalogs/glade-cmip6.json')\n",
    "cat"
   ]
  },
  {
   "cell_type": "markdown",
   "id": "93f68d37-66fc-45ac-8dd4-26bf0e0fac31",
   "metadata": {},
   "source": [
    "## Querying for desired variable\n",
    "\n",
    "https://www.cesm.ucar.edu/community-projects/lens/data-sets\n",
    "\n",
    "CMIP6 variable list --> https://na-cordex.org/variable-list.html\n",
    "\n",
    "Also --> https://wcrp-cmip.github.io/CMIP6_CVs/docs/CMIP6_experiment_id.html"
   ]
  },
  {
   "cell_type": "code",
   "execution_count": null,
   "id": "3089d3ba-4536-464c-ba2d-3fbc6a860f22",
   "metadata": {},
   "outputs": [],
   "source": [
    "# cat.search(component='atm', long_name=['wind*', 'Wind*']).df.long_name.unique()\n",
    "cat.search(variable_id=['wind*', 'Wind*']).df.variable_id.unique()"
   ]
  },
  {
   "cell_type": "markdown",
   "id": "b8c33614-1f0e-4d51-8f0c-55141c744d02",
   "metadata": {},
   "source": [
    "## Query and subset data catalog\n",
    "\n",
    "Overview found [here](https://www2.cesm.ucar.edu/projects/CMIP6/):\n",
    "\n",
    "ScenarioMIP: \"Will provide multi-model climate projections based on alternative scenarios of future emissions and land use changes produced with integrated assessment models. The design consists of eight alternative 21st century scenarios plus one large initial condition ensemble and a set of long-term extensions. Climate model projections will facilitate integrated studies of climate change as well as address targeted scientific questions.\"\n",
    "\n",
    "Citation: O'Neill, B. C., Tebaldi, C., van Vuuren, D.P., Eyring, V., Friedlingstein, P., Hurtt, G., Knutti, R., Kriegler, E., Lamarque, J.-F., Lowe, J., Meehl, G.A., Moss, R., Riahi, K., and Sanderson, B. M. 2016. The Scenario Model Intercomparison Project (ScenarioMIP) for CMIP6. Geosci. Model Dev., 9, 3461-3482."
   ]
  },
  {
   "cell_type": "code",
   "execution_count": null,
   "id": "d3f4f5ef-ccee-4c74-8864-637f28d50ed7",
   "metadata": {},
   "outputs": [],
   "source": [
    "cesm2 = cat.search(\n",
    "    variable_id='sfcWind', # near surface wind\n",
    "    source_id='CESM2',\n",
    "    experiment_id='ssp*',\n",
    "    # experiment_id='historical', # all historical forcings\n",
    "    table_id='day', # day is highest resolution\n",
    "    activity_id='ScenarioMIP'\n",
    ")"
   ]
  },
  {
   "cell_type": "code",
   "execution_count": null,
   "id": "2077749d-66bb-494f-9d3a-418b5fb18902",
   "metadata": {},
   "outputs": [],
   "source": [
    "cesm2.keys_info()"
   ]
  },
  {
   "cell_type": "markdown",
   "id": "1789c07d-ef7c-4394-a7e0-e0e357f6041b",
   "metadata": {
    "tags": []
   },
   "source": [
    "## Read in using ```.to_dataset_dict()```\n",
    "\n",
    "https://stackoverflow.com/questions/67813208/xarray-open-mfdataset-doesnt-work-if-dask-distributed-client-has-been-created"
   ]
  },
  {
   "cell_type": "code",
   "execution_count": null,
   "id": "d38e05fc-88b8-4de1-8e05-be09a05b5da5",
   "metadata": {},
   "outputs": [],
   "source": [
    "with dask.config.set(**{'array.slicing.split_large_chunks': True}):\n",
    "    dsets = cesm2.to_dataset_dict()"
   ]
  },
  {
   "cell_type": "markdown",
   "id": "063fabed-104d-4811-8de3-88dd09fe7ffd",
   "metadata": {},
   "source": [
    "Let’s take a look at the keys - these are defined by the `groupby` attributes in the catalog. The groupby attributes in this case are:\n",
    "\n",
    "https://www2.cesm.ucar.edu/experiments/cesm1.2/GLE/GLENS_output_fields/\n",
    "\n",
    "`component.experiment.stream.forcing_variant.control_branch_year.variable`\n",
    "\n",
    "- Component - which component this output is from (ex. atm represents the atmosphere)\n",
    "- Experiment - which experiment this is from, in this case, this is `ssp370` which is one of the CMIP6 future experiments\n",
    "- Stream - which stream this output is from, in this case, this is `cam.h1`, which represents daily output\n",
    "- Control Branch Year - which year the ensemble branched off from, these are described within the [CESM2-LE documentation page](https://www.cesm.ucar.edu/community-projects/lens2)\n",
    "- Variable - which variable you are working with\n",
    "\n",
    "\n",
    "component = atm (atmosphere), lnd (land), ocn (ocean), ice\n",
    "\n",
    "frequency = monthly, daily, or hourly6\n",
    "\n",
    "experiment = historical (1850 to 2015) or ssp370 (2015 to 2100)\n",
    "\n",
    "forcing_variant = the biomass forcing variant, cmip6 (the default in the cmip6 runs) or smbb (smoothed biomass burning)\n",
    "\n",
    "variable = one of the variable names listed in the tables below"
   ]
  },
  {
   "cell_type": "markdown",
   "id": "2532c31a-7536-4725-b148-9f19645667e9",
   "metadata": {},
   "source": [
    "## Process Data\n",
    "\n",
    "Time period for historical data is `1978` till `2014`."
   ]
  },
  {
   "cell_type": "code",
   "execution_count": null,
   "id": "9c1c7814-f7a2-472e-b7f2-71e4fb9ffc29",
   "metadata": {},
   "outputs": [],
   "source": [
    "def subset_ds(ds, task):\n",
    "    states = regionmask.defined_regions.natural_earth_v5_0_0.us_states_50\n",
    "    # Hawaii and Alaska are not included in the mask\n",
    "    good_keys = [\n",
    "        k for k in states.regions.keys() \n",
    "        if k not in states.map_keys(['Hawaii', 'Alaska'])\n",
    "    ]\n",
    "    mask = states.mask(ds.lon, ds.lat).isin(good_keys)\n",
    "    da = ds.where(mask, drop=True).sfcWind.sel(time=slice('1978', '2100')) # Last time (2100) is wonky\n",
    "    if task == 'mean':\n",
    "        result = da.resample(time='1Y').mean(dim='time')\n",
    "    elif task == 'anomaly':\n",
    "        # Anomaly is x-x_mean \n",
    "        # Then get average anomaly on a yearly basis\n",
    "        result = (da - da.mean('time')).resample(time='1Y').mean('time')\n",
    "    return result"
   ]
  },
  {
   "cell_type": "markdown",
   "id": "276b7236-702c-41f8-927d-b3f66f219107",
   "metadata": {},
   "source": [
    "Tasks are `mean` or `anomaly`"
   ]
  },
  {
   "cell_type": "code",
   "execution_count": null,
   "id": "45278307-1d5c-4df0-a5a5-5a8abb7e6d83",
   "metadata": {},
   "outputs": [],
   "source": [
    "task = 'mean'\n",
    "print(f'Running task: {task}')\n",
    "for key in tqdm(list(dsets.keys()), desc='Processing Data...'):\n",
    "    ds = dsets[key].chunk({'time':365}) # Get into approx 100 mb chunks\n",
    "    da = subset_ds(ds, task=task).persist()\n",
    "    da.compute().to_netcdf('/glade/u/home/valencig/wind-trend-analysis/data/'+key+'.'+task+'.nc')"
   ]
  },
  {
   "cell_type": "markdown",
   "id": "424deec6-bf2f-4cd5-930f-7c31450dc6df",
   "metadata": {},
   "source": [
    "## Restart dask cluster"
   ]
  },
  {
   "cell_type": "code",
   "execution_count": null,
   "id": "b8b9ef79-d6fc-48b7-be0c-61e3ae6cab46",
   "metadata": {},
   "outputs": [],
   "source": [
    "client.restart()"
   ]
  },
  {
   "cell_type": "markdown",
   "id": "f8d90c82-c5f4-4022-8a20-a542356eb0de",
   "metadata": {},
   "source": [
    "## Close dask cluster"
   ]
  },
  {
   "cell_type": "code",
   "execution_count": null,
   "id": "8ec52ae8-9f23-49fb-ac75-873f83c2b7c7",
   "metadata": {},
   "outputs": [],
   "source": [
    "client.shutdown()"
   ]
  }
 ],
 "metadata": {
  "kernelspec": {
   "display_name": "Python [conda env:.conda-wind]",
   "language": "python",
   "name": "conda-env-.conda-wind-py"
  },
  "language_info": {
   "codemirror_mode": {
    "name": "ipython",
    "version": 3
   },
   "file_extension": ".py",
   "mimetype": "text/x-python",
   "name": "python",
   "nbconvert_exporter": "python",
   "pygments_lexer": "ipython3",
   "version": "3.11.6"
  }
 },
 "nbformat": 4,
 "nbformat_minor": 5
}
